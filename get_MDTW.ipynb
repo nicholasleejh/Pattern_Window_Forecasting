{
 "cells": [
  {
   "cell_type": "code",
   "execution_count": null,
   "metadata": {},
   "outputs": [],
   "source": [
    "import pandas as pd\n",
    "import numpy as np\n",
    "import ast\n",
    "from tslearn.metrics import dtw\n",
    "from fastdtw import fastdtw\n",
    "from scipy.spatial.distance import cdist\n",
    "from tqdm import tqdm  # For progress tracking\n",
    "\n",
    "tickers = ['XLF', 'XLU', 'QQQ', 'SPY', 'XLP', 'EWZ', 'EWH', 'XLY', 'XLE']"
   ]
  },
  {
   "cell_type": "code",
   "execution_count": null,
   "metadata": {},
   "outputs": [
    {
     "name": "stdout",
     "output_type": "stream",
     "text": [
      "All processing completed successfully!\n"
     ]
    }
   ],
   "source": [
    "k = 100  # Number of most similar training windows\n",
    "\n",
    "for ticker in tickers:\n",
    "    for year in range(2019, 2024+1):\n",
    "        # Read in data\n",
    "        df = pd.read_csv(f'./data/test_years/{ticker}_{year}.csv')\n",
    "\n",
    "        # Convert string representations of lists back to Python lists\n",
    "        for col in df.columns:\n",
    "            if col not in ['Date', 'Label']:\n",
    "                df[col] = df[col].apply(ast.literal_eval)\n",
    "\n",
    "        # Split into training (year t-5 to t-1) and testing (year t) sets\n",
    "        train_df = df[df['Date'].str[:4].astype(int) < year]\n",
    "        test_df = df[df['Date'].str[:4].astype(int) == year]\n",
    "\n",
    "        # Drop non-numeric columns\n",
    "        train_features = train_df.drop(columns=['Label', 'Date']).values\n",
    "        test_features = test_df.drop(columns=['Label', 'Date']).values\n",
    "\n",
    "        # Convert nested lists into 15x15 matrices\n",
    "        train_features = np.array([np.stack(row) for row in train_features])  # Shape: (train_samples, 15, 15)\n",
    "        test_features = np.array([np.stack(row) for row in test_features])    # Shape: (test_samples, 15, 15)\n",
    "\n",
    "        # Preallocate distance matrices\n",
    "        train_distance_matrix = np.full((train_features.shape[0], train_features.shape[0]), np.inf)  # Lower triangle only\n",
    "        test_distance_matrix = np.zeros((test_features.shape[0], train_features.shape[0]))\n",
    "\n",
    "        # Compute MDTW distances (Train-to-Train, Lower Triangle)\n",
    "        for i in tqdm(range(train_features.shape[0]), desc=f\"Processing {ticker}_{year} Train-to-Train\"):\n",
    "            train_flat_i = train_features[i].flatten()  # Flatten once\n",
    "            for j in range(i):  # Only past samples (lower triangle)\n",
    "                train_flat_j = train_features[j].flatten()  # Flatten once\n",
    "                train_distance_matrix[i, j] = fastdtw(train_flat_i, train_flat_j)[0]  # Store distance\n",
    "\n",
    "        # Compute MDTW distances (Test-to-Train)\n",
    "        for i in tqdm(range(test_features.shape[0]), desc=f\"Processing {ticker}_{year} Test-to-Train\"):\n",
    "            test_flat = test_features[i].flatten()  # Flatten once\n",
    "            for j in range(train_features.shape[0]):\n",
    "                train_flat = train_features[j].flatten()  # Flatten once\n",
    "                test_distance_matrix[i, j] = fastdtw(test_flat, train_flat)[0]  # Store distance\n",
    "\n",
    "        # Find k most similar train samples (Train-to-Train, Lower Triangle)\n",
    "        most_similar_train = [np.argsort(train_distance_matrix[i, :i])[:k].tolist() if i > 0 else [] \n",
    "                              for i in range(train_features.shape[0])]\n",
    "\n",
    "        # Find k most similar train samples for each test window (Test-to-Train)\n",
    "        most_similar_test = np.argsort(test_distance_matrix, axis=1)[:, :k].tolist()\n",
    "\n",
    "        # Store results in DataFrame\n",
    "        train_df_copy = train_df.copy()\n",
    "        test_df_copy = test_df.copy()\n",
    "        train_df_copy['Most_Similar_Train_Windows'] = most_similar_train\n",
    "        test_df_copy['Most_Similar_Train_Windows'] = most_similar_test\n",
    "\n",
    "        # Combine and save results\n",
    "        df_combined = pd.concat([train_df_copy, test_df_copy], axis=0)\n",
    "        df_combined.to_csv(f'./data/mdtw/{ticker}_{year}.csv', index=False)\n",
    "\n",
    "print(\"All processing completed successfully!\")"
   ]
  }
 ],
 "metadata": {
  "kernelspec": {
   "display_name": ".venv",
   "language": "python",
   "name": "python3"
  },
  "language_info": {
   "codemirror_mode": {
    "name": "ipython",
    "version": 3
   },
   "file_extension": ".py",
   "mimetype": "text/x-python",
   "name": "python",
   "nbconvert_exporter": "python",
   "pygments_lexer": "ipython3",
   "version": "3.10.9"
  }
 },
 "nbformat": 4,
 "nbformat_minor": 2
}
