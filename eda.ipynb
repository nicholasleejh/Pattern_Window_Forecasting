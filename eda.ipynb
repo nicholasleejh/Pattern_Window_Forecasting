{
 "cells": [
  {
   "cell_type": "code",
   "execution_count": 9,
   "id": "06332838",
   "metadata": {},
   "outputs": [],
   "source": [
    "import pandas as pd\n",
    "import matplotlib.pyplot as plt\n",
    "from sklearn.metrics import classification_report, confusion_matrix\n",
    "\n",
    "tickers = ['SPY', 'IWM', 'DIA']\n",
    "VERSION_NAME = 'widerATR_20day'"
   ]
  },
  {
   "cell_type": "markdown",
   "id": "d36ab272",
   "metadata": {},
   "source": [
    "# Label Distribution"
   ]
  },
  {
   "cell_type": "code",
   "execution_count": 31,
   "id": "44c1dca8",
   "metadata": {},
   "outputs": [
    {
     "data": {
      "application/vnd.microsoft.datawrangler.viewer.v0+json": {
       "columns": [
        {
         "name": "index",
         "rawType": "int64",
         "type": "integer"
        },
        {
         "name": "Label",
         "rawType": "float64",
         "type": "float"
        },
        {
         "name": "Count",
         "rawType": "int64",
         "type": "integer"
        },
        {
         "name": "Ticker",
         "rawType": "object",
         "type": "string"
        },
        {
         "name": "Percentage",
         "rawType": "float64",
         "type": "float"
        }
       ],
       "conversionMethod": "pd.DataFrame",
       "ref": "67ec5fcc-4f7a-4f4e-95f6-00a1d9c4e2d2",
       "rows": [
        [
         "0",
         "0.0",
         "1182",
         "SPY",
         "39.15"
        ],
        [
         "1",
         "1.0",
         "534",
         "SPY",
         "17.69"
        ],
        [
         "2",
         "2.0",
         "1303",
         "SPY",
         "43.16"
        ],
        [
         "3",
         "0.0",
         "1270",
         "IWM",
         "42.07"
        ],
        [
         "4",
         "1.0",
         "631",
         "IWM",
         "20.9"
        ],
        [
         "5",
         "2.0",
         "1118",
         "IWM",
         "37.03"
        ],
        [
         "6",
         "0.0",
         "1169",
         "DIA",
         "38.72"
        ],
        [
         "7",
         "1.0",
         "572",
         "DIA",
         "18.95"
        ],
        [
         "8",
         "2.0",
         "1278",
         "DIA",
         "42.33"
        ]
       ],
       "shape": {
        "columns": 4,
        "rows": 9
       }
      },
      "text/html": [
       "<div>\n",
       "<style scoped>\n",
       "    .dataframe tbody tr th:only-of-type {\n",
       "        vertical-align: middle;\n",
       "    }\n",
       "\n",
       "    .dataframe tbody tr th {\n",
       "        vertical-align: top;\n",
       "    }\n",
       "\n",
       "    .dataframe thead th {\n",
       "        text-align: right;\n",
       "    }\n",
       "</style>\n",
       "<table border=\"1\" class=\"dataframe\">\n",
       "  <thead>\n",
       "    <tr style=\"text-align: right;\">\n",
       "      <th></th>\n",
       "      <th>Label</th>\n",
       "      <th>Count</th>\n",
       "      <th>Ticker</th>\n",
       "      <th>Percentage</th>\n",
       "    </tr>\n",
       "  </thead>\n",
       "  <tbody>\n",
       "    <tr>\n",
       "      <th>0</th>\n",
       "      <td>0.0</td>\n",
       "      <td>1182</td>\n",
       "      <td>SPY</td>\n",
       "      <td>39.15</td>\n",
       "    </tr>\n",
       "    <tr>\n",
       "      <th>1</th>\n",
       "      <td>1.0</td>\n",
       "      <td>534</td>\n",
       "      <td>SPY</td>\n",
       "      <td>17.69</td>\n",
       "    </tr>\n",
       "    <tr>\n",
       "      <th>2</th>\n",
       "      <td>2.0</td>\n",
       "      <td>1303</td>\n",
       "      <td>SPY</td>\n",
       "      <td>43.16</td>\n",
       "    </tr>\n",
       "    <tr>\n",
       "      <th>3</th>\n",
       "      <td>0.0</td>\n",
       "      <td>1270</td>\n",
       "      <td>IWM</td>\n",
       "      <td>42.07</td>\n",
       "    </tr>\n",
       "    <tr>\n",
       "      <th>4</th>\n",
       "      <td>1.0</td>\n",
       "      <td>631</td>\n",
       "      <td>IWM</td>\n",
       "      <td>20.90</td>\n",
       "    </tr>\n",
       "    <tr>\n",
       "      <th>5</th>\n",
       "      <td>2.0</td>\n",
       "      <td>1118</td>\n",
       "      <td>IWM</td>\n",
       "      <td>37.03</td>\n",
       "    </tr>\n",
       "    <tr>\n",
       "      <th>6</th>\n",
       "      <td>0.0</td>\n",
       "      <td>1169</td>\n",
       "      <td>DIA</td>\n",
       "      <td>38.72</td>\n",
       "    </tr>\n",
       "    <tr>\n",
       "      <th>7</th>\n",
       "      <td>1.0</td>\n",
       "      <td>572</td>\n",
       "      <td>DIA</td>\n",
       "      <td>18.95</td>\n",
       "    </tr>\n",
       "    <tr>\n",
       "      <th>8</th>\n",
       "      <td>2.0</td>\n",
       "      <td>1278</td>\n",
       "      <td>DIA</td>\n",
       "      <td>42.33</td>\n",
       "    </tr>\n",
       "  </tbody>\n",
       "</table>\n",
       "</div>"
      ],
      "text/plain": [
       "   Label  Count Ticker  Percentage\n",
       "0    0.0   1182    SPY       39.15\n",
       "1    1.0    534    SPY       17.69\n",
       "2    2.0   1303    SPY       43.16\n",
       "3    0.0   1270    IWM       42.07\n",
       "4    1.0    631    IWM       20.90\n",
       "5    2.0   1118    IWM       37.03\n",
       "6    0.0   1169    DIA       38.72\n",
       "7    1.0    572    DIA       18.95\n",
       "8    2.0   1278    DIA       42.33"
      ]
     },
     "execution_count": 31,
     "metadata": {},
     "output_type": "execute_result"
    }
   ],
   "source": [
    "combined_df = pd.DataFrame()\n",
    "\n",
    "for ticker in tickers:\n",
    "    all_years = pd.DataFrame()\n",
    "\n",
    "    for year in range(2019, 2024):\n",
    "        df = pd.read_csv(f'./data/normalised/{ticker}_{year}_{year+1}.csv')\n",
    "        df = df[['Date', 'Label']]\n",
    "        all_years = pd.concat([all_years, df], ignore_index=True)\n",
    "    \n",
    "    all_years = all_years.drop_duplicates(subset=['Date', 'Label'], keep='first')\n",
    "\n",
    "    label_counts = all_years['Label'].value_counts().reset_index()\n",
    "    label_counts.columns = ['Label', 'Count']\n",
    "    label_counts['Ticker'] = ticker\n",
    "    label_counts['Percentage'] = round(label_counts['Count'] / label_counts['Count'].sum() * 100, 2)\n",
    "    label_counts = label_counts.sort_values(by='Label')\n",
    "\n",
    "    combined_df = pd.concat([combined_df, label_counts], ignore_index=True)\n",
    "\n",
    "combined_df"
   ]
  },
  {
   "cell_type": "code",
   "execution_count": 32,
   "id": "c7065cbc",
   "metadata": {},
   "outputs": [
    {
     "data": {
      "image/png": "[encoded data removed]",
      "text/plain": [
       "<Figure size 1000x400 with 3 Axes>"
      ]
     },
     "metadata": {},
     "output_type": "display_data"
    }
   ],
   "source": [
    "# Create a 3x3 grid of subplots\n",
    "fig, axes = plt.subplots(1, 3, figsize=(10, 4))\n",
    "\n",
    "# Flatten the 2D axes array to make iteration easier\n",
    "axes = axes.flatten()\n",
    "\n",
    "# Iterate through each ticker and plot the corresponding label distribution\n",
    "for idx, ticker in enumerate(tickers):\n",
    "    # Filter the data for the current ticker\n",
    "    df = combined_df[combined_df['Ticker'] == ticker]\n",
    "\n",
    "    df = df.copy()\n",
    "    df['Label_name'] = df['Label'].map({0: 'Sell', 1: 'Hold', 2: 'Buy'})\n",
    "    \n",
    "    # Plot the bar chart for the current ticker\n",
    "    axes[idx].bar(df['Label_name'], df['Percentage'], color='skyblue')\n",
    "    \n",
    "    # Add red dotted lines at y=10 and y=70\n",
    "    axes[idx].axhline(y=10, color='red', linestyle='--', linewidth=1)\n",
    "    axes[idx].axhline(y=70, color='red', linestyle='--', linewidth=1)\n",
    "\n",
    "    # Set title and labels\n",
    "    axes[idx].set_title(f'Label Distribution for {ticker}')\n",
    "    axes[idx].set_xlabel('Label')\n",
    "    axes[idx].set_ylabel('Percentage')\n",
    "    \n",
    "    # Set x-axis ticks to be discrete (0, 1, 2)\n",
    "    axes[idx].set_xticks([0, 1, 2])\n",
    "    axes[idx].tick_params(axis='x')\n",
    "\n",
    "# Adjust layout to prevent overlap\n",
    "plt.tight_layout()\n",
    "\n",
    "# Show the plot\n",
    "plt.show()"
   ]
  },
  {
   "cell_type": "markdown",
   "id": "7a89bb66",
   "metadata": {},
   "source": [
    "# Correlation of Features"
   ]
  },
  {
   "cell_type": "code",
   "execution_count": 6,
   "id": "7fe26ef7",
   "metadata": {},
   "outputs": [
    {
     "data": {
      "image/png": "[encoded data removed]",
      "text/plain": [
       "<Figure size 1500x1500 with 8 Axes>"
      ]
     },
     "metadata": {},
     "output_type": "display_data"
    }
   ],
   "source": [
    "# Create a 3x3 grid of subplots\n",
    "fig, axes = plt.subplots(2, 2, figsize=(15, 15))\n",
    "\n",
    "# Flatten the 2D axes array to make iteration easier\n",
    "axes = axes.flatten()\n",
    "\n",
    "# Define the correct order of indicators\n",
    "indicators_order = [\n",
    "    'SMA', 'EMA', 'WMA', 'HMA', 'TEMA',\n",
    "    'PSAR', 'DMI', 'CMFI',\n",
    "    'RSI', 'Williams_%R', 'CMO', 'ROC',\n",
    "    'MACD', 'PPO', 'CCI'\n",
    "]\n",
    "\n",
    "# Iterate over each ticker and its corresponding subplot\n",
    "for idx, ticker in enumerate(tickers):\n",
    "    ticker_df = pd.DataFrame()  # Initialize an empty DataFrame to store data for this ticker\n",
    "    \n",
    "    # Iterate through years from 2019 to 2023\n",
    "    for year in range(2019, 2024):\n",
    "        df = pd.read_csv(f'./data/normalised/{ticker}_{year}_{year+1}.csv')\n",
    "        ticker_df = pd.concat([ticker_df, df], ignore_index=True)\n",
    "    \n",
    "    # Drop duplicates based on 'Date' and 'Label', keep the first occurrence\n",
    "    ticker_df = ticker_df.drop_duplicates(subset=['Date', 'Label'], keep='first')\n",
    "    \n",
    "    # Select columns that end with '_6' (assuming these are the indicators you're interested in)\n",
    "    ticker_df = ticker_df.loc[:, ticker_df.columns.str.endswith('_10')]\n",
    "\n",
    "    # Rearrange columns according to the defined indicator order\n",
    "    # Create a list of column names based on the defined indicator order\n",
    "    indicators_order_num = [f'{indicator}_10' for indicator in indicators_order]\n",
    "    \n",
    "    # Ensure the columns in ticker_df are rearranged according to indicators_order_num\n",
    "    ticker_df = ticker_df[indicators_order_num]\n",
    "\n",
    "    # Compute the correlation matrix for the remaining numeric columns\n",
    "    corr = ticker_df.corr()\n",
    "    \n",
    "    # Plot the correlation matrix in the corresponding subplot\n",
    "    cax = axes[idx].imshow(corr, cmap='coolwarm', interpolation='nearest')\n",
    "    \n",
    "    # Set title and color bar\n",
    "    axes[idx].set_title(f'Correlation Matrix for {ticker}', fontsize=12)\n",
    "    plt.colorbar(cax, ax=axes[idx])  # Add color bar to each subplot\n",
    "    \n",
    "    # Set x and y ticks to match the column names\n",
    "    axes[idx].set_xticks(range(len(corr.columns)))\n",
    "    axes[idx].set_xticklabels(corr.columns, rotation=90, fontsize=10)\n",
    "    axes[idx].set_yticks(range(len(corr.columns)))\n",
    "    axes[idx].set_yticklabels(corr.columns, fontsize=10)\n",
    "    \n",
    "# Adjust layout to prevent overlap and make it look nice\n",
    "plt.tight_layout()\n",
    "\n",
    "# Show the plot\n",
    "plt.show()"
   ]
  },
  {
   "cell_type": "markdown",
   "id": "7fa36320",
   "metadata": {},
   "source": [
    "# Sample Image"
   ]
  },
  {
   "cell_type": "code",
   "execution_count": 7,
   "id": "4a5e8204",
   "metadata": {},
   "outputs": [
    {
     "data": {
      "image/png": "[encoded data removed]",
      "text/plain": [
       "<Figure size 640x480 with 2 Axes>"
      ]
     },
     "metadata": {},
     "output_type": "display_data"
    }
   ],
   "source": [
    "# Load the data\n",
    "sample_img = pd.read_csv('./data/normalised/SPY_2023_2024.csv')\n",
    "sample_img = sample_img.drop(columns=['Date', 'Label', 'Close', 'ATR'])\n",
    "\n",
    "# Turn the first row of the DataFrame into a numpy array and reshape it to 15x15\n",
    "sample_img = sample_img.iloc[0, :225].to_numpy()  # Adjust the selection to 225 elements\n",
    "sample_img = sample_img.reshape(15, 15)\n",
    "\n",
    "# Plot the image\n",
    "plt.imshow(sample_img, cmap='grey')\n",
    "plt.colorbar()\n",
    "\n",
    "# Set x-axis to the top\n",
    "plt.gca().xaxis.set_ticks_position('top')\n",
    "\n",
    "# Set custom x-axis labels (the 15 indicators)\n",
    "x_labels = [\n",
    "    'SMA', 'EMA', 'WMA', 'HMA', 'TEMA',\n",
    "    'PSAR', 'DMI', 'CMFI',\n",
    "    'RSI', 'Williams_%R', 'CMO', 'ROC',\n",
    "    'MACD', 'PPO', 'CCI'\n",
    "]\n",
    "plt.xticks(range(15), x_labels, rotation=90)  # Position ticks at the x-axis and apply the labels\n",
    "\n",
    "# Set custom y-axis ticks from 6 to 20\n",
    "plt.yticks(range(15), range(6, 21))  # Set y-ticks from 6 to 20\n",
    "\n",
    "# Title\n",
    "plt.title('Sample Input Image (SPY 2023-01-01)', fontsize=16)\n",
    "\n",
    "# Display the plot\n",
    "plt.tight_layout()\n",
    "plt.show()"
   ]
  },
  {
   "cell_type": "markdown",
   "id": "ee7d61ee",
   "metadata": {},
   "source": [
    "# Combined Results"
   ]
  },
  {
   "cell_type": "code",
   "execution_count": 10,
   "id": "22b71f8c",
   "metadata": {},
   "outputs": [],
   "source": [
    "# Initialize an empty list to store the classification reports and confusion matrices\n",
    "all_reports = {}\n",
    "all_confusion_matrices = {}\n",
    "\n",
    "# Initialize lists to store all true and predicted labels for combined metrics\n",
    "all_y_true = []\n",
    "all_y_pred = []\n",
    "\n",
    "# Iterate over each ticker\n",
    "for ticker in tickers:\n",
    "    ticker_results = pd.DataFrame()\n",
    "\n",
    "    # Iterate through years from 2019 to 2023\n",
    "    for year in range(2019, 2024):\n",
    "        df = pd.read_csv(f'./results_{VERSION_NAME}/{ticker}_{year}_{year+1}.csv')\n",
    "        df = df[['Date', 'Label', 'Prediction']]  # Assuming 'Prediction' is the model's predicted class\n",
    "        ticker_results = pd.concat([ticker_results, df], ignore_index=True)\n",
    "    \n",
    "    # Drop duplicates (keep the first occurrence)\n",
    "    ticker_results = ticker_results.drop_duplicates(keep='first')\n",
    "\n",
    "    # Extract the true labels and predicted labels\n",
    "    y_true = ticker_results['Label']\n",
    "    y_pred = ticker_results['Prediction']\n",
    "    \n",
    "    # Append to the combined true and predicted lists\n",
    "    all_y_true.extend(y_true)\n",
    "    all_y_pred.extend(y_pred)\n",
    "    \n",
    "    # Calculate the classification report and confusion matrix for the current ticker\n",
    "    report = classification_report(y_true, y_pred, output_dict=True)\n",
    "    confusion_mat = confusion_matrix(y_true, y_pred)\n",
    "    \n",
    "    # Store the report and confusion matrix for the current ticker\n",
    "    all_reports[ticker] = report\n",
    "    all_confusion_matrices[ticker] = confusion_mat\n",
    "\n",
    "# Calculate the combined overall classification report and confusion matrix\n",
    "combined_report = classification_report(all_y_true, all_y_pred, output_dict=True)\n",
    "combined_confusion_matrix = confusion_matrix(all_y_true, all_y_pred)\n",
    "\n",
    "# Convert all_reports to a DataFrame to have a summarized view\n",
    "reports_df = all_reports\n",
    "confusion_matrices_df = all_confusion_matrices\n"
   ]
  },
  {
   "cell_type": "code",
   "execution_count": 19,
   "id": "34d803c1",
   "metadata": {},
   "outputs": [
    {
     "data": {
      "application/vnd.microsoft.datawrangler.viewer.v0+json": {
       "columns": [
        {
         "name": "index",
         "rawType": "int64",
         "type": "integer"
        },
        {
         "name": "0",
         "rawType": "int64",
         "type": "integer"
        },
        {
         "name": "1",
         "rawType": "int64",
         "type": "integer"
        },
        {
         "name": "2",
         "rawType": "int64",
         "type": "integer"
        }
       ],
       "conversionMethod": "pd.DataFrame",
       "ref": "a544ff80-be23-41a2-b6f8-753acc36a3bf",
       "rows": [
        [
         "0",
         "1162",
         "127",
         "1307"
        ],
        [
         "1",
         "235",
         "47",
         "304"
        ],
        [
         "2",
         "1050",
         "172",
         "1568"
        ]
       ],
       "shape": {
        "columns": 3,
        "rows": 3
       }
      },
      "text/html": [
       "<div>\n",
       "<style scoped>\n",
       "    .dataframe tbody tr th:only-of-type {\n",
       "        vertical-align: middle;\n",
       "    }\n",
       "\n",
       "    .dataframe tbody tr th {\n",
       "        vertical-align: top;\n",
       "    }\n",
       "\n",
       "    .dataframe thead th {\n",
       "        text-align: right;\n",
       "    }\n",
       "</style>\n",
       "<table border=\"1\" class=\"dataframe\">\n",
       "  <thead>\n",
       "    <tr style=\"text-align: right;\">\n",
       "      <th></th>\n",
       "      <th>0</th>\n",
       "      <th>1</th>\n",
       "      <th>2</th>\n",
       "    </tr>\n",
       "  </thead>\n",
       "  <tbody>\n",
       "    <tr>\n",
       "      <th>0</th>\n",
       "      <td>1162</td>\n",
       "      <td>127</td>\n",
       "      <td>1307</td>\n",
       "    </tr>\n",
       "    <tr>\n",
       "      <th>1</th>\n",
       "      <td>235</td>\n",
       "      <td>47</td>\n",
       "      <td>304</td>\n",
       "    </tr>\n",
       "    <tr>\n",
       "      <th>2</th>\n",
       "      <td>1050</td>\n",
       "      <td>172</td>\n",
       "      <td>1568</td>\n",
       "    </tr>\n",
       "  </tbody>\n",
       "</table>\n",
       "</div>"
      ],
      "text/plain": [
       "      0    1     2\n",
       "0  1162  127  1307\n",
       "1   235   47   304\n",
       "2  1050  172  1568"
      ]
     },
     "execution_count": 19,
     "metadata": {},
     "output_type": "execute_result"
    }
   ],
   "source": [
    "# combined_confusion_matrix\n",
    "pd.DataFrame(combined_confusion_matrix)"
   ]
  },
  {
   "cell_type": "code",
   "execution_count": 11,
   "id": "0366e063",
   "metadata": {},
   "outputs": [
    {
     "data": {
      "application/vnd.microsoft.datawrangler.viewer.v0+json": {
       "columns": [
        {
         "name": "index",
         "rawType": "object",
         "type": "string"
        },
        {
         "name": "0.0",
         "rawType": "float64",
         "type": "float"
        },
        {
         "name": "1.0",
         "rawType": "float64",
         "type": "float"
        },
        {
         "name": "2.0",
         "rawType": "float64",
         "type": "float"
        },
        {
         "name": "accuracy",
         "rawType": "float64",
         "type": "float"
        },
        {
         "name": "macro avg",
         "rawType": "float64",
         "type": "float"
        },
        {
         "name": "weighted avg",
         "rawType": "float64",
         "type": "float"
        }
       ],
       "conversionMethod": "pd.DataFrame",
       "ref": "7e3dca3e-b3f4-4331-8a14-1e01db92c92c",
       "rows": [
        [
         "precision",
         "0.475",
         "0.136",
         "0.493",
         "0.465",
         "0.368",
         "0.45"
        ],
        [
         "recall",
         "0.448",
         "0.08",
         "0.562",
         "0.465",
         "0.363",
         "0.465"
        ],
        [
         "f1-score",
         "0.461",
         "0.101",
         "0.525",
         "0.465",
         "0.362",
         "0.456"
        ],
        [
         "support",
         "2596.0",
         "586.0",
         "2790.0",
         "0.465",
         "5972.0",
         "5972.0"
        ]
       ],
       "shape": {
        "columns": 6,
        "rows": 4
       }
      },
      "text/html": [
       "<div>\n",
       "<style scoped>\n",
       "    .dataframe tbody tr th:only-of-type {\n",
       "        vertical-align: middle;\n",
       "    }\n",
       "\n",
       "    .dataframe tbody tr th {\n",
       "        vertical-align: top;\n",
       "    }\n",
       "\n",
       "    .dataframe thead th {\n",
       "        text-align: right;\n",
       "    }\n",
       "</style>\n",
       "<table border=\"1\" class=\"dataframe\">\n",
       "  <thead>\n",
       "    <tr style=\"text-align: right;\">\n",
       "      <th></th>\n",
       "      <th>0.0</th>\n",
       "      <th>1.0</th>\n",
       "      <th>2.0</th>\n",
       "      <th>accuracy</th>\n",
       "      <th>macro avg</th>\n",
       "      <th>weighted avg</th>\n",
       "    </tr>\n",
       "  </thead>\n",
       "  <tbody>\n",
       "    <tr>\n",
       "      <th>precision</th>\n",
       "      <td>0.475</td>\n",
       "      <td>0.136</td>\n",
       "      <td>0.493</td>\n",
       "      <td>0.465</td>\n",
       "      <td>0.368</td>\n",
       "      <td>0.450</td>\n",
       "    </tr>\n",
       "    <tr>\n",
       "      <th>recall</th>\n",
       "      <td>0.448</td>\n",
       "      <td>0.080</td>\n",
       "      <td>0.562</td>\n",
       "      <td>0.465</td>\n",
       "      <td>0.363</td>\n",
       "      <td>0.465</td>\n",
       "    </tr>\n",
       "    <tr>\n",
       "      <th>f1-score</th>\n",
       "      <td>0.461</td>\n",
       "      <td>0.101</td>\n",
       "      <td>0.525</td>\n",
       "      <td>0.465</td>\n",
       "      <td>0.362</td>\n",
       "      <td>0.456</td>\n",
       "    </tr>\n",
       "    <tr>\n",
       "      <th>support</th>\n",
       "      <td>2596.000</td>\n",
       "      <td>586.000</td>\n",
       "      <td>2790.000</td>\n",
       "      <td>0.465</td>\n",
       "      <td>5972.000</td>\n",
       "      <td>5972.000</td>\n",
       "    </tr>\n",
       "  </tbody>\n",
       "</table>\n",
       "</div>"
      ],
      "text/plain": [
       "                0.0      1.0       2.0  accuracy  macro avg  weighted avg\n",
       "precision     0.475    0.136     0.493     0.465      0.368         0.450\n",
       "recall        0.448    0.080     0.562     0.465      0.363         0.465\n",
       "f1-score      0.461    0.101     0.525     0.465      0.362         0.456\n",
       "support    2596.000  586.000  2790.000     0.465   5972.000      5972.000"
      ]
     },
     "execution_count": 11,
     "metadata": {},
     "output_type": "execute_result"
    }
   ],
   "source": [
    "# combined_report\n",
    "pd.DataFrame(combined_report).round(3)"
   ]
  },
  {
   "cell_type": "code",
   "execution_count": 21,
   "id": "b7f86cac",
   "metadata": {},
   "outputs": [
    {
     "data": {
      "application/vnd.microsoft.datawrangler.viewer.v0+json": {
       "columns": [
        {
         "name": "index",
         "rawType": "int64",
         "type": "integer"
        },
        {
         "name": "0",
         "rawType": "int64",
         "type": "integer"
        },
        {
         "name": "1",
         "rawType": "int64",
         "type": "integer"
        },
        {
         "name": "2",
         "rawType": "int64",
         "type": "integer"
        }
       ],
       "conversionMethod": "pd.DataFrame",
       "ref": "0941521d-15c3-4eca-be8a-6794189475eb",
       "rows": [
        [
         "0",
         "398",
         "37",
         "472"
        ],
        [
         "1",
         "43",
         "15",
         "83"
        ],
        [
         "2",
         "412",
         "50",
         "596"
        ]
       ],
       "shape": {
        "columns": 3,
        "rows": 3
       }
      },
      "text/html": [
       "<div>\n",
       "<style scoped>\n",
       "    .dataframe tbody tr th:only-of-type {\n",
       "        vertical-align: middle;\n",
       "    }\n",
       "\n",
       "    .dataframe tbody tr th {\n",
       "        vertical-align: top;\n",
       "    }\n",
       "\n",
       "    .dataframe thead th {\n",
       "        text-align: right;\n",
       "    }\n",
       "</style>\n",
       "<table border=\"1\" class=\"dataframe\">\n",
       "  <thead>\n",
       "    <tr style=\"text-align: right;\">\n",
       "      <th></th>\n",
       "      <th>0</th>\n",
       "      <th>1</th>\n",
       "      <th>2</th>\n",
       "    </tr>\n",
       "  </thead>\n",
       "  <tbody>\n",
       "    <tr>\n",
       "      <th>0</th>\n",
       "      <td>398</td>\n",
       "      <td>37</td>\n",
       "      <td>472</td>\n",
       "    </tr>\n",
       "    <tr>\n",
       "      <th>1</th>\n",
       "      <td>43</td>\n",
       "      <td>15</td>\n",
       "      <td>83</td>\n",
       "    </tr>\n",
       "    <tr>\n",
       "      <th>2</th>\n",
       "      <td>412</td>\n",
       "      <td>50</td>\n",
       "      <td>596</td>\n",
       "    </tr>\n",
       "  </tbody>\n",
       "</table>\n",
       "</div>"
      ],
      "text/plain": [
       "     0   1    2\n",
       "0  398  37  472\n",
       "1   43  15   83\n",
       "2  412  50  596"
      ]
     },
     "execution_count": 21,
     "metadata": {},
     "output_type": "execute_result"
    }
   ],
   "source": [
    "# confusion_matrices_df['SPY']\n",
    "pd.DataFrame(confusion_matrices_df['SPY'])"
   ]
  },
  {
   "cell_type": "code",
   "execution_count": 20,
   "id": "ae174547",
   "metadata": {},
   "outputs": [
    {
     "data": {
      "application/vnd.microsoft.datawrangler.viewer.v0+json": {
       "columns": [
        {
         "name": "index",
         "rawType": "object",
         "type": "string"
        },
        {
         "name": "0.0",
         "rawType": "float64",
         "type": "float"
        },
        {
         "name": "1.0",
         "rawType": "float64",
         "type": "float"
        },
        {
         "name": "2.0",
         "rawType": "float64",
         "type": "float"
        },
        {
         "name": "accuracy",
         "rawType": "float64",
         "type": "float"
        },
        {
         "name": "macro avg",
         "rawType": "float64",
         "type": "float"
        },
        {
         "name": "weighted avg",
         "rawType": "float64",
         "type": "float"
        }
       ],
       "conversionMethod": "pd.DataFrame",
       "ref": "e866335c-0817-4195-84d1-307e638d1d31",
       "rows": [
        [
         "precision",
         "0.467",
         "0.147",
         "0.518",
         "0.479",
         "0.377",
         "0.471"
        ],
        [
         "recall",
         "0.439",
         "0.106",
         "0.563",
         "0.479",
         "0.37",
         "0.479"
        ],
        [
         "f1-score",
         "0.452",
         "0.123",
         "0.54",
         "0.479",
         "0.372",
         "0.474"
        ],
        [
         "support",
         "907.0",
         "141.0",
         "1058.0",
         "0.479",
         "2106.0",
         "2106.0"
        ]
       ],
       "shape": {
        "columns": 6,
        "rows": 4
       }
      },
      "text/html": [
       "<div>\n",
       "<style scoped>\n",
       "    .dataframe tbody tr th:only-of-type {\n",
       "        vertical-align: middle;\n",
       "    }\n",
       "\n",
       "    .dataframe tbody tr th {\n",
       "        vertical-align: top;\n",
       "    }\n",
       "\n",
       "    .dataframe thead th {\n",
       "        text-align: right;\n",
       "    }\n",
       "</style>\n",
       "<table border=\"1\" class=\"dataframe\">\n",
       "  <thead>\n",
       "    <tr style=\"text-align: right;\">\n",
       "      <th></th>\n",
       "      <th>0.0</th>\n",
       "      <th>1.0</th>\n",
       "      <th>2.0</th>\n",
       "      <th>accuracy</th>\n",
       "      <th>macro avg</th>\n",
       "      <th>weighted avg</th>\n",
       "    </tr>\n",
       "  </thead>\n",
       "  <tbody>\n",
       "    <tr>\n",
       "      <th>precision</th>\n",
       "      <td>0.467</td>\n",
       "      <td>0.147</td>\n",
       "      <td>0.518</td>\n",
       "      <td>0.479</td>\n",
       "      <td>0.377</td>\n",
       "      <td>0.471</td>\n",
       "    </tr>\n",
       "    <tr>\n",
       "      <th>recall</th>\n",
       "      <td>0.439</td>\n",
       "      <td>0.106</td>\n",
       "      <td>0.563</td>\n",
       "      <td>0.479</td>\n",
       "      <td>0.370</td>\n",
       "      <td>0.479</td>\n",
       "    </tr>\n",
       "    <tr>\n",
       "      <th>f1-score</th>\n",
       "      <td>0.452</td>\n",
       "      <td>0.123</td>\n",
       "      <td>0.540</td>\n",
       "      <td>0.479</td>\n",
       "      <td>0.372</td>\n",
       "      <td>0.474</td>\n",
       "    </tr>\n",
       "    <tr>\n",
       "      <th>support</th>\n",
       "      <td>907.000</td>\n",
       "      <td>141.000</td>\n",
       "      <td>1058.000</td>\n",
       "      <td>0.479</td>\n",
       "      <td>2106.000</td>\n",
       "      <td>2106.000</td>\n",
       "    </tr>\n",
       "  </tbody>\n",
       "</table>\n",
       "</div>"
      ],
      "text/plain": [
       "               0.0      1.0       2.0  accuracy  macro avg  weighted avg\n",
       "precision    0.467    0.147     0.518     0.479      0.377         0.471\n",
       "recall       0.439    0.106     0.563     0.479      0.370         0.479\n",
       "f1-score     0.452    0.123     0.540     0.479      0.372         0.474\n",
       "support    907.000  141.000  1058.000     0.479   2106.000      2106.000"
      ]
     },
     "execution_count": 20,
     "metadata": {},
     "output_type": "execute_result"
    }
   ],
   "source": [
    "# reports_df['SPY']\n",
    "pd.DataFrame(reports_df['SPY']).round(3)"
   ]
  },
  {
   "cell_type": "code",
   "execution_count": 17,
   "id": "083c2945",
   "metadata": {},
   "outputs": [
    {
     "data": {
      "application/vnd.microsoft.datawrangler.viewer.v0+json": {
       "columns": [
        {
         "name": "index",
         "rawType": "int64",
         "type": "integer"
        },
        {
         "name": "0",
         "rawType": "int64",
         "type": "integer"
        },
        {
         "name": "1",
         "rawType": "int64",
         "type": "integer"
        },
        {
         "name": "2",
         "rawType": "int64",
         "type": "integer"
        }
       ],
       "conversionMethod": "pd.DataFrame",
       "ref": "bb6a8d1e-f6f8-4890-83f3-268d904b39dd",
       "rows": [
        [
         "0",
         "472",
         "62",
         "307"
        ],
        [
         "1",
         "113",
         "22",
         "87"
        ],
        [
         "2",
         "349",
         "93",
         "373"
        ]
       ],
       "shape": {
        "columns": 3,
        "rows": 3
       }
      },
      "text/html": [
       "<div>\n",
       "<style scoped>\n",
       "    .dataframe tbody tr th:only-of-type {\n",
       "        vertical-align: middle;\n",
       "    }\n",
       "\n",
       "    .dataframe tbody tr th {\n",
       "        vertical-align: top;\n",
       "    }\n",
       "\n",
       "    .dataframe thead th {\n",
       "        text-align: right;\n",
       "    }\n",
       "</style>\n",
       "<table border=\"1\" class=\"dataframe\">\n",
       "  <thead>\n",
       "    <tr style=\"text-align: right;\">\n",
       "      <th></th>\n",
       "      <th>0</th>\n",
       "      <th>1</th>\n",
       "      <th>2</th>\n",
       "    </tr>\n",
       "  </thead>\n",
       "  <tbody>\n",
       "    <tr>\n",
       "      <th>0</th>\n",
       "      <td>472</td>\n",
       "      <td>62</td>\n",
       "      <td>307</td>\n",
       "    </tr>\n",
       "    <tr>\n",
       "      <th>1</th>\n",
       "      <td>113</td>\n",
       "      <td>22</td>\n",
       "      <td>87</td>\n",
       "    </tr>\n",
       "    <tr>\n",
       "      <th>2</th>\n",
       "      <td>349</td>\n",
       "      <td>93</td>\n",
       "      <td>373</td>\n",
       "    </tr>\n",
       "  </tbody>\n",
       "</table>\n",
       "</div>"
      ],
      "text/plain": [
       "     0   1    2\n",
       "0  472  62  307\n",
       "1  113  22   87\n",
       "2  349  93  373"
      ]
     },
     "execution_count": 17,
     "metadata": {},
     "output_type": "execute_result"
    }
   ],
   "source": [
    "# confusion_matrices_df['IWM']\n",
    "pd.DataFrame(confusion_matrices_df['IWM'])"
   ]
  },
  {
   "cell_type": "code",
   "execution_count": 14,
   "id": "8b996d96",
   "metadata": {},
   "outputs": [
    {
     "data": {
      "application/vnd.microsoft.datawrangler.viewer.v0+json": {
       "columns": [
        {
         "name": "index",
         "rawType": "object",
         "type": "string"
        },
        {
         "name": "0.0",
         "rawType": "float64",
         "type": "float"
        },
        {
         "name": "1.0",
         "rawType": "float64",
         "type": "float"
        },
        {
         "name": "2.0",
         "rawType": "float64",
         "type": "float"
        },
        {
         "name": "accuracy",
         "rawType": "float64",
         "type": "float"
        },
        {
         "name": "macro avg",
         "rawType": "float64",
         "type": "float"
        },
        {
         "name": "weighted avg",
         "rawType": "float64",
         "type": "float"
        }
       ],
       "conversionMethod": "pd.DataFrame",
       "ref": "2be70c66-7778-4aad-b9d9-3818268032dd",
       "rows": [
        [
         "precision",
         "0.505",
         "0.124",
         "0.486",
         "0.462",
         "0.372",
         "0.452"
        ],
        [
         "recall",
         "0.561",
         "0.099",
         "0.458",
         "0.462",
         "0.373",
         "0.462"
        ],
        [
         "f1-score",
         "0.532",
         "0.11",
         "0.472",
         "0.462",
         "0.371",
         "0.456"
        ],
        [
         "support",
         "841.0",
         "222.0",
         "815.0",
         "0.462",
         "1878.0",
         "1878.0"
        ]
       ],
       "shape": {
        "columns": 6,
        "rows": 4
       }
      },
      "text/html": [
       "<div>\n",
       "<style scoped>\n",
       "    .dataframe tbody tr th:only-of-type {\n",
       "        vertical-align: middle;\n",
       "    }\n",
       "\n",
       "    .dataframe tbody tr th {\n",
       "        vertical-align: top;\n",
       "    }\n",
       "\n",
       "    .dataframe thead th {\n",
       "        text-align: right;\n",
       "    }\n",
       "</style>\n",
       "<table border=\"1\" class=\"dataframe\">\n",
       "  <thead>\n",
       "    <tr style=\"text-align: right;\">\n",
       "      <th></th>\n",
       "      <th>0.0</th>\n",
       "      <th>1.0</th>\n",
       "      <th>2.0</th>\n",
       "      <th>accuracy</th>\n",
       "      <th>macro avg</th>\n",
       "      <th>weighted avg</th>\n",
       "    </tr>\n",
       "  </thead>\n",
       "  <tbody>\n",
       "    <tr>\n",
       "      <th>precision</th>\n",
       "      <td>0.505</td>\n",
       "      <td>0.124</td>\n",
       "      <td>0.486</td>\n",
       "      <td>0.462</td>\n",
       "      <td>0.372</td>\n",
       "      <td>0.452</td>\n",
       "    </tr>\n",
       "    <tr>\n",
       "      <th>recall</th>\n",
       "      <td>0.561</td>\n",
       "      <td>0.099</td>\n",
       "      <td>0.458</td>\n",
       "      <td>0.462</td>\n",
       "      <td>0.373</td>\n",
       "      <td>0.462</td>\n",
       "    </tr>\n",
       "    <tr>\n",
       "      <th>f1-score</th>\n",
       "      <td>0.532</td>\n",
       "      <td>0.110</td>\n",
       "      <td>0.472</td>\n",
       "      <td>0.462</td>\n",
       "      <td>0.371</td>\n",
       "      <td>0.456</td>\n",
       "    </tr>\n",
       "    <tr>\n",
       "      <th>support</th>\n",
       "      <td>841.000</td>\n",
       "      <td>222.000</td>\n",
       "      <td>815.000</td>\n",
       "      <td>0.462</td>\n",
       "      <td>1878.000</td>\n",
       "      <td>1878.000</td>\n",
       "    </tr>\n",
       "  </tbody>\n",
       "</table>\n",
       "</div>"
      ],
      "text/plain": [
       "               0.0      1.0      2.0  accuracy  macro avg  weighted avg\n",
       "precision    0.505    0.124    0.486     0.462      0.372         0.452\n",
       "recall       0.561    0.099    0.458     0.462      0.373         0.462\n",
       "f1-score     0.532    0.110    0.472     0.462      0.371         0.456\n",
       "support    841.000  222.000  815.000     0.462   1878.000      1878.000"
      ]
     },
     "execution_count": 14,
     "metadata": {},
     "output_type": "execute_result"
    }
   ],
   "source": [
    "# reports_df['IWM']\n",
    "pd.DataFrame(reports_df['IWM']).round(3)"
   ]
  },
  {
   "cell_type": "code",
   "execution_count": 18,
   "id": "b7843977",
   "metadata": {},
   "outputs": [
    {
     "data": {
      "application/vnd.microsoft.datawrangler.viewer.v0+json": {
       "columns": [
        {
         "name": "index",
         "rawType": "int64",
         "type": "integer"
        },
        {
         "name": "0",
         "rawType": "int64",
         "type": "integer"
        },
        {
         "name": "1",
         "rawType": "int64",
         "type": "integer"
        },
        {
         "name": "2",
         "rawType": "int64",
         "type": "integer"
        }
       ],
       "conversionMethod": "pd.DataFrame",
       "ref": "b8eb0691-8af2-4800-953b-dc181ad0a659",
       "rows": [
        [
         "0",
         "292",
         "28",
         "528"
        ],
        [
         "1",
         "79",
         "10",
         "134"
        ],
        [
         "2",
         "289",
         "29",
         "599"
        ]
       ],
       "shape": {
        "columns": 3,
        "rows": 3
       }
      },
      "text/html": [
       "<div>\n",
       "<style scoped>\n",
       "    .dataframe tbody tr th:only-of-type {\n",
       "        vertical-align: middle;\n",
       "    }\n",
       "\n",
       "    .dataframe tbody tr th {\n",
       "        vertical-align: top;\n",
       "    }\n",
       "\n",
       "    .dataframe thead th {\n",
       "        text-align: right;\n",
       "    }\n",
       "</style>\n",
       "<table border=\"1\" class=\"dataframe\">\n",
       "  <thead>\n",
       "    <tr style=\"text-align: right;\">\n",
       "      <th></th>\n",
       "      <th>0</th>\n",
       "      <th>1</th>\n",
       "      <th>2</th>\n",
       "    </tr>\n",
       "  </thead>\n",
       "  <tbody>\n",
       "    <tr>\n",
       "      <th>0</th>\n",
       "      <td>292</td>\n",
       "      <td>28</td>\n",
       "      <td>528</td>\n",
       "    </tr>\n",
       "    <tr>\n",
       "      <th>1</th>\n",
       "      <td>79</td>\n",
       "      <td>10</td>\n",
       "      <td>134</td>\n",
       "    </tr>\n",
       "    <tr>\n",
       "      <th>2</th>\n",
       "      <td>289</td>\n",
       "      <td>29</td>\n",
       "      <td>599</td>\n",
       "    </tr>\n",
       "  </tbody>\n",
       "</table>\n",
       "</div>"
      ],
      "text/plain": [
       "     0   1    2\n",
       "0  292  28  528\n",
       "1   79  10  134\n",
       "2  289  29  599"
      ]
     },
     "execution_count": 18,
     "metadata": {},
     "output_type": "execute_result"
    }
   ],
   "source": [
    "# confusion_matrices_df['DIA']\n",
    "pd.DataFrame(confusion_matrices_df['DIA'])"
   ]
  },
  {
   "cell_type": "code",
   "execution_count": 15,
   "id": "ed0450e7",
   "metadata": {},
   "outputs": [
    {
     "data": {
      "application/vnd.microsoft.datawrangler.viewer.v0+json": {
       "columns": [
        {
         "name": "index",
         "rawType": "object",
         "type": "string"
        },
        {
         "name": "0.0",
         "rawType": "float64",
         "type": "float"
        },
        {
         "name": "1.0",
         "rawType": "float64",
         "type": "float"
        },
        {
         "name": "2.0",
         "rawType": "float64",
         "type": "float"
        },
        {
         "name": "accuracy",
         "rawType": "float64",
         "type": "float"
        },
        {
         "name": "macro avg",
         "rawType": "float64",
         "type": "float"
        },
        {
         "name": "weighted avg",
         "rawType": "float64",
         "type": "float"
        }
       ],
       "conversionMethod": "pd.DataFrame",
       "ref": "80de5b83-7f06-477b-9752-057b211cc0ad",
       "rows": [
        [
         "precision",
         "0.442",
         "0.149",
         "0.475",
         "0.453",
         "0.356",
         "0.425"
        ],
        [
         "recall",
         "0.344",
         "0.045",
         "0.653",
         "0.453",
         "0.347",
         "0.453"
        ],
        [
         "f1-score",
         "0.387",
         "0.069",
         "0.55",
         "0.453",
         "0.335",
         "0.427"
        ],
        [
         "support",
         "848.0",
         "223.0",
         "917.0",
         "0.453",
         "1988.0",
         "1988.0"
        ]
       ],
       "shape": {
        "columns": 6,
        "rows": 4
       }
      },
      "text/html": [
       "<div>\n",
       "<style scoped>\n",
       "    .dataframe tbody tr th:only-of-type {\n",
       "        vertical-align: middle;\n",
       "    }\n",
       "\n",
       "    .dataframe tbody tr th {\n",
       "        vertical-align: top;\n",
       "    }\n",
       "\n",
       "    .dataframe thead th {\n",
       "        text-align: right;\n",
       "    }\n",
       "</style>\n",
       "<table border=\"1\" class=\"dataframe\">\n",
       "  <thead>\n",
       "    <tr style=\"text-align: right;\">\n",
       "      <th></th>\n",
       "      <th>0.0</th>\n",
       "      <th>1.0</th>\n",
       "      <th>2.0</th>\n",
       "      <th>accuracy</th>\n",
       "      <th>macro avg</th>\n",
       "      <th>weighted avg</th>\n",
       "    </tr>\n",
       "  </thead>\n",
       "  <tbody>\n",
       "    <tr>\n",
       "      <th>precision</th>\n",
       "      <td>0.442</td>\n",
       "      <td>0.149</td>\n",
       "      <td>0.475</td>\n",
       "      <td>0.453</td>\n",
       "      <td>0.356</td>\n",
       "      <td>0.425</td>\n",
       "    </tr>\n",
       "    <tr>\n",
       "      <th>recall</th>\n",
       "      <td>0.344</td>\n",
       "      <td>0.045</td>\n",
       "      <td>0.653</td>\n",
       "      <td>0.453</td>\n",
       "      <td>0.347</td>\n",
       "      <td>0.453</td>\n",
       "    </tr>\n",
       "    <tr>\n",
       "      <th>f1-score</th>\n",
       "      <td>0.387</td>\n",
       "      <td>0.069</td>\n",
       "      <td>0.550</td>\n",
       "      <td>0.453</td>\n",
       "      <td>0.335</td>\n",
       "      <td>0.427</td>\n",
       "    </tr>\n",
       "    <tr>\n",
       "      <th>support</th>\n",
       "      <td>848.000</td>\n",
       "      <td>223.000</td>\n",
       "      <td>917.000</td>\n",
       "      <td>0.453</td>\n",
       "      <td>1988.000</td>\n",
       "      <td>1988.000</td>\n",
       "    </tr>\n",
       "  </tbody>\n",
       "</table>\n",
       "</div>"
      ],
      "text/plain": [
       "               0.0      1.0      2.0  accuracy  macro avg  weighted avg\n",
       "precision    0.442    0.149    0.475     0.453      0.356         0.425\n",
       "recall       0.344    0.045    0.653     0.453      0.347         0.453\n",
       "f1-score     0.387    0.069    0.550     0.453      0.335         0.427\n",
       "support    848.000  223.000  917.000     0.453   1988.000      1988.000"
      ]
     },
     "execution_count": 15,
     "metadata": {},
     "output_type": "execute_result"
    }
   ],
   "source": [
    "# reports_df['DIA']\n",
    "pd.DataFrame(reports_df['DIA']).round(3)"
   ]
  }
 ],
 "metadata": {
  "kernelspec": {
   "display_name": ".venv",
   "language": "python",
   "name": "python3"
  },
  "language_info": {
   "codemirror_mode": {
    "name": "ipython",
    "version": 3
   },
   "file_extension": ".py",
   "mimetype": "text/x-python",
   "name": "python",
   "nbconvert_exporter": "python",
   "pygments_lexer": "ipython3",
   "version": "3.10.9"
  }
 },
 "nbformat": 4,
 "nbformat_minor": 5
}
